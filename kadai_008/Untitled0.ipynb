{
  "nbformat": 4,
  "nbformat_minor": 0,
  "metadata": {
    "colab": {
      "provenance": []
    },
    "kernelspec": {
      "name": "python3",
      "display_name": "Python 3"
    },
    "language_info": {
      "name": "python"
    }
  },
  "cells": [
    {
      "cell_type": "code",
      "source": [
        "import random\n",
        "\n",
        "var = random.randint(0, 100)\n",
        "\n",
        "if var % 3 == 0:\n",
        "   print(\"Fizz\")\n",
        "elif var % 5 == 0:\n",
        "   print(\"Buzz\")\n",
        "elif var % 3 == 0 and var % 5 == 0:\n",
        "   print(\"FizzBuzz\")\n",
        "else:\n",
        "   print(var)"
      ],
      "metadata": {
        "id": "n9EWcBIiOM0I",
        "colab": {
          "base_uri": "https://localhost:8080/"
        },
        "outputId": "d9259dd2-89eb-454e-b836-79217b1aa981"
      },
      "execution_count": 49,
      "outputs": [
        {
          "output_type": "stream",
          "name": "stdout",
          "text": [
            "14\n"
          ]
        }
      ]
    }
  ]
}