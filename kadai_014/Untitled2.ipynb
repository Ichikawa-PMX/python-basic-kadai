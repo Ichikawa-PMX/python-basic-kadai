{
  "nbformat": 4,
  "nbformat_minor": 0,
  "metadata": {
    "colab": {
      "provenance": [],
      "toc_visible": true
    },
    "kernelspec": {
      "name": "python3",
      "display_name": "Python 3"
    },
    "language_info": {
      "name": "python"
    }
  },
  "cells": [
    {
      "cell_type": "code",
      "source": [
        "tax = 10\n",
        "def add_tex (price):\n",
        "    return price + (price*tax/100)\n",
        "\n",
        "print (f\"{add_tex (110)}円\")"
      ],
      "metadata": {
        "colab": {
          "base_uri": "https://localhost:8080/"
        },
        "id": "AURxehd9bZGM",
        "outputId": "8bc3727c-426d-49bb-f859-050e19e4f357"
      },
      "execution_count": 70,
      "outputs": [
        {
          "output_type": "stream",
          "name": "stdout",
          "text": [
            "121.0円\n"
          ]
        }
      ]
    },
    {
      "cell_type": "code",
      "source": [
        "def add_tex (price, tax):\n",
        "    return price + (price*tax/100)\n",
        "\n",
        "print (f\"{add_tex (110, 10)}円\")"
      ],
      "metadata": {
        "colab": {
          "base_uri": "https://localhost:8080/"
        },
        "id": "W2ii5YTCkLmw",
        "outputId": "c90b8419-b391-4d90-d9d0-02e51346620e"
      },
      "execution_count": 72,
      "outputs": [
        {
          "output_type": "stream",
          "name": "stdout",
          "text": [
            "121.0円\n"
          ]
        }
      ]
    },
    {
      "cell_type": "markdown",
      "source": [],
      "metadata": {
        "id": "s44U85MabY5H"
      }
    }
  ]
}