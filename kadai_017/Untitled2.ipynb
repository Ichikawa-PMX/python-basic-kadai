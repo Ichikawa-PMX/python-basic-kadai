{
  "nbformat": 4,
  "nbformat_minor": 0,
  "metadata": {
    "colab": {
      "provenance": [],
      "toc_visible": true
    },
    "kernelspec": {
      "name": "python3",
      "display_name": "Python 3"
    },
    "language_info": {
      "name": "python"
    }
  },
  "cells": [
    {
      "cell_type": "code",
      "source": [
        "humans_name = [\"佐藤\", \"田辺\", \"ジョン\"]\n",
        "humans_age = [65, 3, 25]\n",
        "i = 0\n",
        "\n",
        "class Human:\n",
        "    def __init__(self, name, age):\n",
        "        self.name = name\n",
        "        self.age = age\n",
        "        self.check_adult()\n",
        "\n",
        "    def printinfo(self):\n",
        "        print(\"名前:\", self.name)\n",
        "        print(\"年齢:\", self.age)\n",
        "        print(\"大人かどうか:\", self.adult)\n",
        "\n",
        "    def check_adult(self):\n",
        "        if self.age >= 20:\n",
        "            self.adult = \"大人である\"\n",
        "        else:\n",
        "            self.adult = \"大人ではない\"\n",
        "\n",
        "while i != 3:\n",
        "    name = humans_name[i]\n",
        "    age = humans_age[i]\n",
        "    i += 1\n",
        "\n",
        "\n",
        "    human = Human(name, age)\n",
        "\n",
        "    human.printinfo()"
      ],
      "metadata": {
        "colab": {
          "base_uri": "https://localhost:8080/"
        },
        "id": "IQK9A4GdPenw",
        "outputId": "044c7f8b-a5d7-4b07-aef2-27fba92a4f3f"
      },
      "execution_count": 37,
      "outputs": [
        {
          "output_type": "stream",
          "name": "stdout",
          "text": [
            "名前: 佐藤\n",
            "年齢: 65\n",
            "大人かどうか: 大人である\n",
            "名前: 田辺\n",
            "年齢: 3\n",
            "大人かどうか: 大人ではない\n",
            "名前: ジョン\n",
            "年齢: 25\n",
            "大人かどうか: 大人である\n"
          ]
        }
      ]
    }
  ]
}