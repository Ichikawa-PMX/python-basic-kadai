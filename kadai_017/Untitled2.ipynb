{
  "nbformat": 4,
  "nbformat_minor": 0,
  "metadata": {
    "colab": {
      "provenance": [],
      "toc_visible": true
    },
    "kernelspec": {
      "name": "python3",
      "display_name": "Python 3"
    },
    "language_info": {
      "name": "python"
    }
  },
  "cells": [
    {
      "cell_type": "code",
      "source": [
        "class Human:\n",
        "    def __init__(self, name, age):\n",
        "        self.name = name\n",
        "        self.age = age\n",
        "        self.check_adult()\n",
        "\n",
        "    def printinfo(self):\n",
        "        print(\"名前:\", self.name)\n",
        "        print(\"年齢:\", self.age)\n",
        "        print(\"大人かどうか:\", self.adult)\n",
        "\n",
        "\n",
        "    def check_adult(self):\n",
        "        if self.age >= 20:\n",
        "            self.adult = \"大人である\"\n",
        "        else:\n",
        "            self.adult = \"大人ではない\"\n",
        "\n",
        "human = Human(\"佐藤\", 65)\n",
        "\n",
        "human.printinfo()"
      ],
      "metadata": {
        "colab": {
          "base_uri": "https://localhost:8080/"
        },
        "id": "95gYlSFuA6T-",
        "outputId": "3c08d8f1-6f67-482a-e788-6a1499183db1"
      },
      "execution_count": 17,
      "outputs": [
        {
          "output_type": "stream",
          "name": "stdout",
          "text": [
            "名前: 佐藤\n",
            "年齢: 65\n",
            "大人かどうか: 大人である\n"
          ]
        }
      ]
    }
  ]
}