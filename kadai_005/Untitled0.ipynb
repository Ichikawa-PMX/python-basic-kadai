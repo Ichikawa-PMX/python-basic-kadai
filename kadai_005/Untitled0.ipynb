{
  "nbformat": 4,
  "nbformat_minor": 0,
  "metadata": {
    "colab": {
      "provenance": []
    },
    "kernelspec": {
      "name": "python3",
      "display_name": "Python 3"
    },
    "language_info": {
      "name": "python"
    }
  },
  "cells": [
    {
      "cell_type": "code",
      "execution_count": 16,
      "metadata": {
        "colab": {
          "base_uri": "https://localhost:8080/"
        },
        "id": "fw54cEHv7O35",
        "outputId": "61de91de-7cb6-422d-9876-24c00627d67e"
      },
      "outputs": [
        {
          "output_type": "stream",
          "name": "stdout",
          "text": [
            "75.0cm\n"
          ]
        }
      ],
      "source": [
        "top = 10\n",
        "bottom =20\n",
        "height =5\n",
        "\n",
        "print(str((top + bottom) * height / 2) + \"cm\")"
      ]
    },
    {
      "cell_type": "code",
      "source": [],
      "metadata": {
        "id": "5xWS2ToB-Cro"
      },
      "execution_count": null,
      "outputs": []
    }
  ]
}