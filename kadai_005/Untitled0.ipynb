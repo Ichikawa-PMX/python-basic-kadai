{
  "nbformat": 4,
  "nbformat_minor": 0,
  "metadata": {
    "colab": {
      "provenance": []
    },
    "kernelspec": {
      "name": "python3",
      "display_name": "Python 3"
    },
    "language_info": {
      "name": "python"
    }
  },
  "cells": [
    {
      "cell_type": "code",
      "source": [],
      "metadata": {
        "id": "n9EWcBIiOM0I"
      },
      "execution_count": null,
      "outputs": []
    },
    {
      "cell_type": "code",
      "source": [
        "top = 10\n",
        "bottom =20\n",
        "height =5\n",
        "\n",
        "area = ((top + bottom) * height / 2)\n",
        "\n",
        "print(str(area)  +  \"cm²\")"
      ],
      "metadata": {
        "id": "2x_z3x4UQINY",
        "colab": {
          "base_uri": "https://localhost:8080/"
        },
        "outputId": "125c9b0d-c4ec-4cf6-8f58-c1ffa5b6c406"
      },
      "execution_count": 22,
      "outputs": [
        {
          "output_type": "stream",
          "name": "stdout",
          "text": [
            "75.0cm²\n",
            "75.0cm²\n"
          ]
        }
      ]
    }
  ]
}