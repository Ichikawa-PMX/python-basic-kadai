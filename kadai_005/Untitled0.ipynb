{
  "nbformat": 4,
  "nbformat_minor": 0,
  "metadata": {
    "colab": {
      "provenance": []
    },
    "kernelspec": {
      "name": "python3",
      "display_name": "Python 3"
    },
    "language_info": {
      "name": "python"
    }
  },
  "cells": [
    {
      "cell_type": "code",
      "source": [],
      "metadata": {
        "id": "n9EWcBIiOM0I"
      },
      "execution_count": null,
      "outputs": []
    },
    {
      "cell_type": "code",
      "source": [
        "\n",
        "top = 10\n",
        "bottom =20\n",
        "height =5\n",
        "\n",
        "print(str((top + bottom) * height / 2) + \"cm²\")"
      ],
      "metadata": {
        "id": "2x_z3x4UQINY",
        "colab": {
          "base_uri": "https://localhost:8080/"
        },
        "outputId": "209c3e4a-6e2e-4177-8f10-6649daa0d99a"
      },
      "execution_count": 19,
      "outputs": [
        {
          "output_type": "stream",
          "name": "stdout",
          "text": [
            "75.0cm²\n"
          ]
        }
      ]
    }
  ]
}