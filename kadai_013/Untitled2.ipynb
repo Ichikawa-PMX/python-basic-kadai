{
  "nbformat": 4,
  "nbformat_minor": 0,
  "metadata": {
    "colab": {
      "provenance": [],
      "toc_visible": true
    },
    "kernelspec": {
      "name": "python3",
      "display_name": "Python 3"
    },
    "language_info": {
      "name": "python"
    }
  },
  "cells": [
    {
      "cell_type": "markdown",
      "source": [
        "# 新しいセクション"
      ],
      "metadata": {
        "id": "1BO-JA2kR_Ng"
      }
    },
    {
      "cell_type": "code",
      "source": [
        "def add_tex (price):\n",
        "    total = price + (price*0.1)\n",
        "\n",
        "    print(f\"{total}円\")\n",
        "\n",
        "add_tex(2500)"
      ],
      "metadata": {
        "colab": {
          "base_uri": "https://localhost:8080/"
        },
        "id": "lc32KCwJSCZj",
        "outputId": "fb42d74b-7cec-4b5f-d71f-32332c8af91e"
      },
      "execution_count": 23,
      "outputs": [
        {
          "output_type": "stream",
          "name": "stdout",
          "text": [
            "2750.0円\n"
          ]
        }
      ]
    }
  ]
}